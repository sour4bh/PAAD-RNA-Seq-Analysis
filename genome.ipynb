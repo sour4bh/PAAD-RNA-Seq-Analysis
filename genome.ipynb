{
 "cells": [
  {
   "cell_type": "markdown",
   "metadata": {},
   "source": [
    "#                              PAAD RNA-Seq Analysis"
   ]
  },
  {
   "cell_type": "markdown",
   "metadata": {},
   "source": [
    "### Imports"
   ]
  },
  {
   "cell_type": "code",
   "execution_count": 1,
   "metadata": {},
   "outputs": [],
   "source": [
    "import pandas as pd\n",
    "import numpy as np\n",
    "import scipy\n",
    "\n",
    "from cmapPy.pandasGEXpress.GCToo import GCToo\n",
    "from cmapPy.pandasGEXpress.parse import parse\n",
    "\n",
    "from sklearn.preprocessing import StandardScaler\n",
    "from sklearn.impute import KNNImputer\n",
    "from sklearn.model_selection import  train_test_split\n",
    "from sklearn.linear_model import LogisticRegression\n",
    "\n",
    "from sklearn.decomposition import PCA\n",
    "from sklearn.cluster import KMeans\n",
    "\n",
    "import seaborn as sns\n",
    "import matplotlib.pyplot as plt\n"
   ]
  },
  {
   "cell_type": "markdown",
   "metadata": {},
   "source": [
    "### Load dataset "
   ]
  },
  {
   "cell_type": "code",
   "execution_count": 2,
   "metadata": {},
   "outputs": [],
   "source": [
    "gct = parse('data/PAAD.gct')\n",
    "data = gct.data_df\n",
    "meta_col = gct.col_metadata_df\n",
    "meta_row = gct.row_metadata_df"
   ]
  },
  {
   "cell_type": "markdown",
   "metadata": {},
   "source": [
    "# Explore Dataset"
   ]
  },
  {
   "cell_type": "markdown",
   "metadata": {},
   "source": [
    "#### Dataset dimensions"
   ]
  },
  {
   "cell_type": "code",
   "execution_count": 3,
   "metadata": {},
   "outputs": [
    {
     "data": {
      "text/plain": [
       "((18465, 183), (183, 124), (18465, 0))"
      ]
     },
     "execution_count": 3,
     "metadata": {},
     "output_type": "execute_result"
    }
   ],
   "source": [
    "data.shape, meta_col.shape, meta_row.shape"
   ]
  },
  {
   "cell_type": "markdown",
   "metadata": {},
   "source": [
    "#### Types of tissues"
   ]
  },
  {
   "cell_type": "code",
   "execution_count": 4,
   "metadata": {},
   "outputs": [
    {
     "data": {
      "text/plain": [
       "{'Metastatic', 'Primary solid Tumor', 'Solid Tissue Normal'}"
      ]
     },
     "execution_count": 4,
     "metadata": {},
     "output_type": "execute_result"
    }
   ],
   "source": [
    "# unique columns : sample types\n",
    "set([col.split('-')[1] for col in data.columns])"
   ]
  },
  {
   "cell_type": "markdown",
   "metadata": {},
   "source": [
    "#### Pathological parameters in dataset"
   ]
  },
  {
   "cell_type": "code",
   "execution_count": 5,
   "metadata": {},
   "outputs": [
    {
     "name": "stdout",
     "output_type": "stream",
     "text": [
      "participant_id\n",
      "sample_type\n",
      "mRNAseq_cluster\n",
      "bcr_patient_barcode\n",
      "bcr_patient_uuid\n",
      "vital_status\n",
      "days_to_death\n",
      "days_to_last_followup\n",
      "additional_studies\n",
      "adenocarcinoma_invasion\n",
      "age_at_initial_pathologic_diagnosis\n",
      "alcohol_history_documented\n",
      "alcoholic_exposure_category\n",
      "amount_of_alcohol_consumption_per_day\n",
      "anatomic_neoplasm_subdivision\n",
      "anatomic_neoplasm_subdivision_other\n",
      "b_symptoms\n",
      "bcr\n",
      "bcr_aliquot_uuid\n",
      "bcr_canonical_reason-2\n",
      "bcr_canonical_reason-3\n",
      "bcr_canonical_reason\n",
      "bcr_followup_barcode\n",
      "bcr_followup_uuid\n",
      "bcr_patient_canonical_status\n",
      "clinical_m\n",
      "clinical_n\n",
      "clinical_stage\n",
      "clinical_t\n",
      "course_number\n",
      "day_of_dcc_upload\n",
      "day_of_form_completion\n",
      "days_to_birth\n",
      "days_to_diabetes_onset\n",
      "days_to_index\n",
      "days_to_initial_pathologic_diagnosis\n",
      "days_to_pancreatitis_onset\n",
      "days_to_psa\n",
      "disease_code\n",
      "drugs\n",
      "ethnicity\n",
      "extranodal_involvement\n",
      "family_history_of_cancer\n",
      "file_uuid\n",
      "follow_ups\n",
      "followup_case_report_form_submission_reason\n",
      "followup_treatment_success\n",
      "frequency_of_alcohol_consumption\n",
      "gender\n",
      "gleason_score\n",
      "histologic_grading_tier_category\n",
      "histological_type\n",
      "histological_type_other\n",
      "history_of_chronic_pancreatitis\n",
      "history_of_diabetes\n",
      "history_of_neoadjuvant_treatment\n",
      "history_prior_surgery_type_other\n",
      "hiv_status\n",
      "icd_10\n",
      "icd_o_3_histology\n",
      "icd_o_3_site\n",
      "igcccg_stage\n",
      "informed_consent_verified\n",
      "init_pathology_dx_method_other\n",
      "initial_pathologic_diagnosis_method\n",
      "lost_follow_up\n",
      "lymph_node_examined_count\n",
      "masaoka_stage\n",
      "maximum_tumor_dimension\n",
      "mononucleotide_and_dinucleotide_marker_panel_analysis_status\n",
      "mononucleotide_marker_panel_analysis_status\n",
      "month_of_dcc_upload\n",
      "month_of_form_completion\n",
      "neoplasm_histologic_grade\n",
      "number_cycles\n",
      "number_of_lymphnodes_positive_by_he\n",
      "number_of_lymphnodes_positive_by_ihc\n",
      "number_pack_years_smoked\n",
      "other_dx\n",
      "pathologic_m\n",
      "pathologic_n\n",
      "pathologic_stage\n",
      "pathologic_t\n",
      "patient_death_reason\n",
      "person_neoplasm_cancer_status\n",
      "prescribed_dose\n",
      "prescribed_dose_units\n",
      "primary_lymph_node_presentation_assessment\n",
      "primary_pattern\n",
      "primary_therapy_outcome_success\n",
      "progression_determined_by-3\n",
      "project_code\n",
      "psa_value\n",
      "race\n",
      "radiation_therapy\n",
      "radiation_type_notes\n",
      "radiations\n",
      "regimen_number\n",
      "relative_cancer_type-2\n",
      "relative_cancer_type\n",
      "residual_tumor\n",
      "route_of_administration\n",
      "secondary_pattern\n",
      "serum_markers\n",
      "source_of_patient_death_reason\n",
      "stopped_smoking_year\n",
      "surgery_performed_type\n",
      "system_version\n",
      "targeted_molecular_therapy\n",
      "tertiary_pattern\n",
      "therapy_type_notes\n",
      "tissue_prospective_collection_indicator\n",
      "tissue_retrospective_collection_indicator\n",
      "tissue_source_site\n",
      "tobacco_smoking_history\n",
      "total_dose\n",
      "total_dose_units\n",
      "tumor_tissue_site\n",
      "tumor_type\n",
      "withdrawn\n",
      "year_of_dcc_upload\n",
      "year_of_form_completion\n",
      "year_of_initial_pathologic_diagnosis\n",
      "year_of_tobacco_smoking_onset\n"
     ]
    }
   ],
   "source": [
    "cols = [print(col) for col in meta_col.columns]"
   ]
  },
  {
   "cell_type": "markdown",
   "metadata": {},
   "source": [
    "### Histology "
   ]
  },
  {
   "cell_type": "code",
   "execution_count": 6,
   "metadata": {},
   "outputs": [
    {
     "name": "stdout",
     "output_type": "stream",
     "text": [
      "pancreas-adenocarcinoma ductal type :\n",
      "pancreas-adenocarcinoma-other subtype :\n",
      "\t 82463 neuroendocrine carcinoma nos\n",
      "\t adenocarcinoma, nos\n",
      "\t adenocarcinoma- nos\n",
      "\t ductal and micropapillary\n",
      "\t intraductal tubulopapillary neoplasm\n",
      "\t invasive adenocarcinoma\n",
      "\t invasive, well-differentiated\n",
      "\t moderately differentiated ductal adenocarcinoma 60% + neuroendocrine 40%\n",
      "\t neuroendocrine\n",
      "\t neuroendocrine carcinoma\n",
      "\t neuroendocrine carcinoma nos\n",
      "\t not specified\n",
      "\t poorly differentiated adenocarcinoma\n",
      "\t poorly differentiated pancreatic adenocarcinoma\n",
      "pancreas-colloid (mucinous non-cystic) carcinoma :\n",
      "pancreas-undifferentiated carcinoma :\n"
     ]
    }
   ],
   "source": [
    "for hist, meta in meta_col.groupby('histological_type'):\n",
    "    print(hist, ':')\n",
    "    for hist_other, other_meta in meta.groupby('histological_type_other'):\n",
    "        print('\\t', hist_other)"
   ]
  },
  {
   "cell_type": "markdown",
   "metadata": {},
   "source": [
    "### Out of all Pancreatic histology, how many are neuroendocrine?"
   ]
  },
  {
   "cell_type": "code",
   "execution_count": 99,
   "metadata": {},
   "outputs": [
    {
     "name": "stdout",
     "output_type": "stream",
     "text": [
      "Neuroendocrine Histologies: \n",
      "\t 82463 neuroendocrine carcinoma nos\n",
      "\t neuroendocrine\n",
      "\t neuroendocrine carcinoma\n",
      "\t neuroendocrine carcinoma nos\n",
      "\n",
      "Total # Neuroendocrine : 8\n"
     ]
    }
   ],
   "source": [
    "# neuroendocrine ids \n",
    "nids = []\n",
    "print('Neuroendocrine Histologies: ')\n",
    "for hist_other, other_meta in meta_col.groupby('histological_type_other'):\n",
    "    if 'neuroendocrine' in hist_other and not 'moderately' in hist_other:\n",
    "        print('\\t', hist_other)\n",
    "        for id_ in other_meta.index:\n",
    "            nids.append(id_)\n",
    "print('\\nTotal # Neuroendocrine :', len(nids))\n"
   ]
  },
  {
   "cell_type": "markdown",
   "metadata": {},
   "source": [
    "##### Create ground truth binary labels ((adenocarcinoma vs neuroendocrine))"
   ]
  },
  {
   "cell_type": "code",
   "execution_count": 8,
   "metadata": {},
   "outputs": [],
   "source": [
    "Y = data.columns.tolist()\n",
    "for i, id_ in enumerate(Y):\n",
    "    Y[i] = 0\n",
    "    if id_ in nids:\n",
    "       Y[i] = 1\n",
    "Y = np.array(Y)"
   ]
  },
  {
   "cell_type": "markdown",
   "metadata": {},
   "source": [
    "# Preprocessing"
   ]
  },
  {
   "cell_type": "markdown",
   "metadata": {},
   "source": [
    "### Investigate Missing Data"
   ]
  },
  {
   "cell_type": "markdown",
   "metadata": {},
   "source": [
    "#### Missing gene values per sample"
   ]
  },
  {
   "cell_type": "code",
   "execution_count": 9,
   "metadata": {},
   "outputs": [
    {
     "name": "stdout",
     "output_type": "stream",
     "text": [
      "count     183.000000\n",
      "mean      737.453552\n",
      "std       264.169332\n",
      "min       294.000000\n",
      "25%       564.000000\n",
      "50%       697.000000\n",
      "75%       837.500000\n",
      "max      1944.000000\n",
      "dtype: float64\n"
     ]
    },
    {
     "data": {
      "text/plain": [
       "<matplotlib.axes._subplots.AxesSubplot at 0x25e9d12fbc8>"
      ]
     },
     "execution_count": 9,
     "metadata": {},
     "output_type": "execute_result"
    },
    {
     "data": {
      "image/png": "[encoded data removed]",
      "text/plain": [
       "<Figure size 432x288 with 1 Axes>"
      ]
     },
     "metadata": {
      "needs_background": "light"
     },
     "output_type": "display_data"
    }
   ],
   "source": [
    "missing = data.shape[0] -  data.count()\n",
    "print(missing.describe())\n",
    "sns.distplot(missing)"
   ]
  },
  {
   "cell_type": "markdown",
   "metadata": {},
   "source": [
    "***Transpose data***"
   ]
  },
  {
   "cell_type": "code",
   "execution_count": 10,
   "metadata": {},
   "outputs": [],
   "source": [
    "data = data.T"
   ]
  },
  {
   "cell_type": "markdown",
   "metadata": {},
   "source": [
    "#### Missing samples for each gene"
   ]
  },
  {
   "cell_type": "code",
   "execution_count": 11,
   "metadata": {},
   "outputs": [
    {
     "name": "stdout",
     "output_type": "stream",
     "text": [
      "count    18465.000000\n",
      "mean         7.308638\n",
      "std         22.106567\n",
      "min          0.000000\n",
      "25%          0.000000\n",
      "50%          0.000000\n",
      "75%          0.000000\n",
      "max        128.000000\n",
      "dtype: float64\n"
     ]
    },
    {
     "data": {
      "text/plain": [
       "<matplotlib.axes._subplots.AxesSubplot at 0x25e9d120808>"
      ]
     },
     "execution_count": 11,
     "metadata": {},
     "output_type": "execute_result"
    },
    {
     "data": {
      "image/png": "[encoded data removed]",
      "text/plain": [
       "<Figure size 432x288 with 1 Axes>"
      ]
     },
     "metadata": {
      "needs_background": "light"
     },
     "output_type": "display_data"
    }
   ],
   "source": [
    "missing = data.shape[0] -  data.count()\n",
    "print(missing.describe())\n",
    "sns.distplot(missing)"
   ]
  },
  {
   "cell_type": "markdown",
   "metadata": {},
   "source": [
    "### As there are a large number of missing values in the dataset, KNN based weighted Imputing is used to fill-in the missing values : [_ref_](https://www.researchgate.net/publication/316117685_Missing_value_imputation_for_gene_expression_data_by_tailored_nearest_neighbors)"
   ]
  },
  {
   "cell_type": "markdown",
   "metadata": {},
   "source": [
    "#### Using KNN distance weighted imputer for missing values:\n",
    "**_it has been found k = [[5,10]](http://www.web.stanford.edu/~hastie/Papers/missing.pdf) is a good choice for gene experssion data._**"
   ]
  },
  {
   "cell_type": "code",
   "execution_count": 12,
   "metadata": {},
   "outputs": [],
   "source": [
    "X = data.to_numpy()\n",
    "X = KNNImputer(n_neighbors=5, weights='distance').fit_transform(X)"
   ]
  },
  {
   "cell_type": "markdown",
   "metadata": {},
   "source": [
    "# Using PCA for dimensionality reduction and visualization "
   ]
  },
  {
   "cell_type": "code",
   "execution_count": 62,
   "metadata": {},
   "outputs": [],
   "source": [
    "pca = PCA(n_components=20, random_state=42)\n",
    "componenets = pd.DataFrame(pca.fit_transform(X))"
   ]
  },
  {
   "cell_type": "markdown",
   "metadata": {},
   "source": [
    "### Plotting variance ratios for consequtive principal components suggests only first 3 pcas are usable"
   ]
  },
  {
   "cell_type": "code",
   "execution_count": 63,
   "metadata": {},
   "outputs": [
    {
     "data": {
      "text/plain": [
       "<matplotlib.axes._subplots.AxesSubplot at 0x25ea2322cc8>"
      ]
     },
     "execution_count": 63,
     "metadata": {},
     "output_type": "execute_result"
    },
    {
     "data": {
      "image/png": "[encoded data removed]",
      "text/plain": [
       "<Figure size 432x288 with 1 Axes>"
      ]
     },
     "metadata": {
      "needs_background": "light"
     },
     "output_type": "display_data"
    }
   ],
   "source": [
    "pd.DataFrame(pca.explained_variance_ratio_).plot.bar()"
   ]
  },
  {
   "cell_type": "markdown",
   "metadata": {},
   "source": [
    "# K Means Clustering upon PCA for classification"
   ]
  },
  {
   "cell_type": "markdown",
   "metadata": {},
   "source": [
    "### Determine the best k parameter for clustering "
   ]
  },
  {
   "cell_type": "code",
   "execution_count": 64,
   "metadata": {},
   "outputs": [
    {
     "data": {
      "image/png": "[encoded data removed]",
      "text/plain": [
       "<Figure size 432x288 with 1 Axes>"
      ]
     },
     "metadata": {
      "needs_background": "light"
     },
     "output_type": "display_data"
    }
   ],
   "source": [
    "inertias = []\n",
    "for k in range(1,10):\n",
    "    kmeans = KMeans(n_clusters=k)\n",
    "    kmeans.fit(componenets.iloc[:,:3])\n",
    "    inertias.append(kmeans.inertia_)\n",
    "plt.plot(range(1,10), inertias, '-o')\n",
    "# elbows at k=3\n",
    "plt.annotate('Elbow at k=3', xy=(3, inertias[3-1]), xytext=(4, inertias[1]), arrowprops=dict(arrowstyle='simple'))\n",
    "plt.show()\n",
    "components = componenets.iloc[:,:3]\n",
    "componenets.columns = list(map(str, componenets.columns))"
   ]
  },
  {
   "cell_type": "markdown",
   "metadata": {},
   "source": [
    "### Applying K-Means using k = 3 clusters on first 3 principal components"
   ]
  },
  {
   "cell_type": "code",
   "execution_count": 65,
   "metadata": {},
   "outputs": [
    {
     "data": {
      "text/plain": [
       "<matplotlib.axes._subplots.AxesSubplot at 0x25e9b9019c8>"
      ]
     },
     "execution_count": 65,
     "metadata": {},
     "output_type": "execute_result"
    },
    {
     "data": {
      "image/png": "[encoded data removed]",
      "text/plain": [
       "<Figure size 1080x648 with 1 Axes>"
      ]
     },
     "metadata": {
      "needs_background": "light"
     },
     "output_type": "display_data"
    }
   ],
   "source": [
    "kmeans = KMeans(n_clusters=3, random_state=42).fit(componenets.iloc[:,:3])\n",
    "componenets['predict'] = kmeans.predict(componenets.iloc[:,:3])\n",
    "plt.figure(figsize=(15,9))\n",
    "plt.title('k3 Clustering seperates Neuroendocrine with a large boundary')\n",
    "sns.scatterplot(x='0', y='1', hue='predict', style='predict', data=componenets)"
   ]
  },
  {
   "cell_type": "markdown",
   "metadata": {},
   "source": [
    "# Evaluating Clustering  "
   ]
  },
  {
   "cell_type": "markdown",
   "metadata": {},
   "source": [
    "***Storing ground truth (adenocarcinoma , neuroendocrine) : (0 , 1)   labels for evaluation***"
   ]
  },
  {
   "cell_type": "code",
   "execution_count": 66,
   "metadata": {},
   "outputs": [],
   "source": [
    "componenets['labels'] = Y"
   ]
  },
  {
   "cell_type": "markdown",
   "metadata": {},
   "source": [
    "#### Ternary KMeans predicted class = 2 corresponds to ground truth class = 1"
   ]
  },
  {
   "cell_type": "code",
   "execution_count": 67,
   "metadata": {},
   "outputs": [
    {
     "data": {
      "text/html": [
       "<div>\n",
       "<style scoped>\n",
       "    .dataframe tbody tr th:only-of-type {\n",
       "        vertical-align: middle;\n",
       "    }\n",
       "\n",
       "    .dataframe tbody tr th {\n",
       "        vertical-align: top;\n",
       "    }\n",
       "\n",
       "    .dataframe thead th {\n",
       "        text-align: right;\n",
       "    }\n",
       "</style>\n",
       "<table border=\"1\" class=\"dataframe\">\n",
       "  <thead>\n",
       "    <tr style=\"text-align: right;\">\n",
       "      <th></th>\n",
       "      <th>labels</th>\n",
       "      <th>predict</th>\n",
       "      <th>histological_type</th>\n",
       "      <th>histological_type_other</th>\n",
       "    </tr>\n",
       "  </thead>\n",
       "  <tbody>\n",
       "    <tr>\n",
       "      <th>22</th>\n",
       "      <td>1</td>\n",
       "      <td>2</td>\n",
       "      <td>pancreas-adenocarcinoma-other subtype</td>\n",
       "      <td>neuroendocrine</td>\n",
       "    </tr>\n",
       "    <tr>\n",
       "      <th>29</th>\n",
       "      <td>1</td>\n",
       "      <td>2</td>\n",
       "      <td>pancreas-adenocarcinoma-other subtype</td>\n",
       "      <td>neuroendocrine carcinoma nos</td>\n",
       "    </tr>\n",
       "    <tr>\n",
       "      <th>30</th>\n",
       "      <td>1</td>\n",
       "      <td>2</td>\n",
       "      <td>pancreas-adenocarcinoma-other subtype</td>\n",
       "      <td>neuroendocrine carcinoma nos</td>\n",
       "    </tr>\n",
       "    <tr>\n",
       "      <th>31</th>\n",
       "      <td>1</td>\n",
       "      <td>2</td>\n",
       "      <td>pancreas-adenocarcinoma-other subtype</td>\n",
       "      <td>neuroendocrine carcinoma nos</td>\n",
       "    </tr>\n",
       "    <tr>\n",
       "      <th>32</th>\n",
       "      <td>1</td>\n",
       "      <td>2</td>\n",
       "      <td>pancreas-adenocarcinoma-other subtype</td>\n",
       "      <td>neuroendocrine carcinoma nos</td>\n",
       "    </tr>\n",
       "    <tr>\n",
       "      <th>33</th>\n",
       "      <td>1</td>\n",
       "      <td>2</td>\n",
       "      <td>pancreas-adenocarcinoma-other subtype</td>\n",
       "      <td>neuroendocrine carcinoma nos</td>\n",
       "    </tr>\n",
       "    <tr>\n",
       "      <th>34</th>\n",
       "      <td>1</td>\n",
       "      <td>2</td>\n",
       "      <td>pancreas-adenocarcinoma-other subtype</td>\n",
       "      <td>82463 neuroendocrine carcinoma nos</td>\n",
       "    </tr>\n",
       "    <tr>\n",
       "      <th>36</th>\n",
       "      <td>1</td>\n",
       "      <td>2</td>\n",
       "      <td>pancreas-adenocarcinoma-other subtype</td>\n",
       "      <td>neuroendocrine carcinoma</td>\n",
       "    </tr>\n",
       "  </tbody>\n",
       "</table>\n",
       "</div>"
      ],
      "text/plain": [
       "    labels  predict                      histological_type  \\\n",
       "22       1        2  pancreas-adenocarcinoma-other subtype   \n",
       "29       1        2  pancreas-adenocarcinoma-other subtype   \n",
       "30       1        2  pancreas-adenocarcinoma-other subtype   \n",
       "31       1        2  pancreas-adenocarcinoma-other subtype   \n",
       "32       1        2  pancreas-adenocarcinoma-other subtype   \n",
       "33       1        2  pancreas-adenocarcinoma-other subtype   \n",
       "34       1        2  pancreas-adenocarcinoma-other subtype   \n",
       "36       1        2  pancreas-adenocarcinoma-other subtype   \n",
       "\n",
       "               histological_type_other  \n",
       "22                      neuroendocrine  \n",
       "29        neuroendocrine carcinoma nos  \n",
       "30        neuroendocrine carcinoma nos  \n",
       "31        neuroendocrine carcinoma nos  \n",
       "32        neuroendocrine carcinoma nos  \n",
       "33        neuroendocrine carcinoma nos  \n",
       "34  82463 neuroendocrine carcinoma nos  \n",
       "36            neuroendocrine carcinoma  "
      ]
     },
     "execution_count": 67,
     "metadata": {},
     "output_type": "execute_result"
    }
   ],
   "source": [
    "# missclassifications \n",
    "componenets['histological_type'] = meta_col['histological_type'].values\n",
    "componenets['histological_type_other'] = meta_col['histological_type_other'].values\n",
    "componenets[['labels', 'predict', 'histological_type', 'histological_type_other']][componenets.predict == 2]"
   ]
  },
  {
   "cell_type": "markdown",
   "metadata": {},
   "source": [
    "#### As can be seen in the above dataframe's 'histological_type_other'; there are no missclassifications"
   ]
  },
  {
   "cell_type": "markdown",
   "metadata": {},
   "source": [
    "### Plotting ground truth labels on PCA0 and PCA1 to visually confirm clustering accuracy"
   ]
  },
  {
   "cell_type": "code",
   "execution_count": 59,
   "metadata": {},
   "outputs": [
    {
     "data": {
      "text/plain": [
       "<matplotlib.axes._subplots.AxesSubplot at 0x25ea22975c8>"
      ]
     },
     "execution_count": 59,
     "metadata": {},
     "output_type": "execute_result"
    },
    {
     "data": {
      "image/png": "[encoded data removed]",
      "text/plain": [
       "<Figure size 864x720 with 1 Axes>"
      ]
     },
     "metadata": {
      "needs_background": "light"
     },
     "output_type": "display_data"
    }
   ],
   "source": [
    "plt.figure(figsize=(12,10))\n",
    "sns.scatterplot(x='0', y='1', hue='labels', data=componenets)"
   ]
  },
  {
   "cell_type": "markdown",
   "metadata": {},
   "source": [
    "# Linear Classification "
   ]
  },
  {
   "cell_type": "markdown",
   "metadata": {},
   "source": [
    "### If Dimensionality reduction shows perfect seperability, will a simpler linear model fit on higher dimensions?"
   ]
  },
  {
   "cell_type": "markdown",
   "metadata": {},
   "source": [
    "## Logistic Regression "
   ]
  },
  {
   "cell_type": "markdown",
   "metadata": {},
   "source": [
    "**Create Training and Testing Dataset Split**"
   ]
  },
  {
   "cell_type": "code",
   "execution_count": 68,
   "metadata": {},
   "outputs": [
    {
     "name": "stdout",
     "output_type": "stream",
     "text": [
      "[0 0 0 0 0 0 0 0 0 0 0 0 0 0 0 0 0 0 0 0 0 0 0 1 0 0 0 0 0 0 0 0 0 0 0 1 0\n",
      " 0 0 1 0 0 0 0 0 0 0 0 0 0 0 0 0 0 0]\n"
     ]
    }
   ],
   "source": [
    "x_train, x_test, y_train, y_test = train_test_split(X, Y, test_size=0.3, random_state=42)\n",
    "print(y_test)"
   ]
  },
  {
   "cell_type": "markdown",
   "metadata": {},
   "source": [
    "***Data is highly unbalanced; Testing split should contain enough target labels***"
   ]
  },
  {
   "cell_type": "code",
   "execution_count": 71,
   "metadata": {},
   "outputs": [
    {
     "name": "stdout",
     "output_type": "stream",
     "text": [
      "# of neoendocrine samples in test data : 3\n"
     ]
    }
   ],
   "source": [
    "print('# of neoendocrine samples in test data :', y_test.sum())"
   ]
  },
  {
   "cell_type": "markdown",
   "metadata": {},
   "source": [
    "### Logistic regression based on L2 regularization"
   ]
  },
  {
   "cell_type": "code",
   "execution_count": 74,
   "metadata": {},
   "outputs": [
    {
     "data": {
      "text/plain": [
       "LogisticRegression(C=1.0, class_weight=None, dual=False, fit_intercept=True,\n",
       "                   intercept_scaling=1, l1_ratio=None, max_iter=100,\n",
       "                   multi_class='auto', n_jobs=None, penalty='l2',\n",
       "                   random_state=None, solver='lbfgs', tol=0.0001, verbose=0,\n",
       "                   warm_start=False)"
      ]
     },
     "execution_count": 74,
     "metadata": {},
     "output_type": "execute_result"
    }
   ],
   "source": [
    "lr = LogisticRegression(penalty='l2')\n",
    "lr.fit(x_train, y_train)"
   ]
  },
  {
   "cell_type": "markdown",
   "metadata": {},
   "source": [
    "#### Following graph shows the distance of the datapoints from the decision hyperplane"
   ]
  },
  {
   "cell_type": "code",
   "execution_count": 75,
   "metadata": {},
   "outputs": [
    {
     "data": {
      "text/plain": [
       "<matplotlib.axes._subplots.AxesSubplot at 0x25ea4ce0f88>"
      ]
     },
     "execution_count": 75,
     "metadata": {},
     "output_type": "execute_result"
    },
    {
     "data": {
      "image/png": "[encoded data removed]",
      "text/plain": [
       "<Figure size 432x288 with 1 Axes>"
      ]
     },
     "metadata": {
      "needs_background": "light"
     },
     "output_type": "display_data"
    }
   ],
   "source": [
    "sns.lineplot(data=lr.decision_function(x_test))"
   ]
  },
  {
   "cell_type": "markdown",
   "metadata": {},
   "source": [
    "#### As expected, perfect accuracy"
   ]
  },
  {
   "cell_type": "code",
   "execution_count": 76,
   "metadata": {},
   "outputs": [
    {
     "name": "stdout",
     "output_type": "stream",
     "text": [
      "1.0\n"
     ]
    }
   ],
   "source": [
    "print(lr.score(x_test, y_test))"
   ]
  },
  {
   "cell_type": "markdown",
   "metadata": {},
   "source": [
    "#### There is inherently high seperabiltiy, but the learned weights are very dense"
   ]
  },
  {
   "cell_type": "code",
   "execution_count": 77,
   "metadata": {},
   "outputs": [
    {
     "data": {
      "text/plain": [
       "<matplotlib.axes._subplots.AxesSubplot at 0x25ea4272388>"
      ]
     },
     "execution_count": 77,
     "metadata": {},
     "output_type": "execute_result"
    },
    {
     "data": {
      "image/png": "[encoded data removed]",
      "text/plain": [
       "<Figure size 432x288 with 1 Axes>"
      ]
     },
     "metadata": {
      "needs_background": "light"
     },
     "output_type": "display_data"
    }
   ],
   "source": [
    "sns.lineplot(data=list(lr.coef_))"
   ]
  },
  {
   "cell_type": "markdown",
   "metadata": {},
   "source": [
    "## Logistic Regression with L1 regularization"
   ]
  },
  {
   "cell_type": "markdown",
   "metadata": {},
   "source": [
    "### L1 regularization heavily penalises weights to absolute zero for features with less predictive capability"
   ]
  },
  {
   "cell_type": "code",
   "execution_count": 81,
   "metadata": {},
   "outputs": [
    {
     "data": {
      "text/plain": [
       "1.0"
      ]
     },
     "execution_count": 81,
     "metadata": {},
     "output_type": "execute_result"
    }
   ],
   "source": [
    "lr = LogisticRegression(penalty='l1', solver='liblinear')\n",
    "lr.fit(x_train, y_train)\n",
    "lr.score(x_test, y_test)"
   ]
  },
  {
   "cell_type": "markdown",
   "metadata": {},
   "source": [
    "### Graph now shows the prominent features (Genes) that lead to this seperability between adenocarcinoma tumors and Neuroendocrine tumors"
   ]
  },
  {
   "cell_type": "code",
   "execution_count": 80,
   "metadata": {},
   "outputs": [
    {
     "data": {
      "text/plain": [
       "<matplotlib.axes._subplots.AxesSubplot at 0x25ea42f2b88>"
      ]
     },
     "execution_count": 80,
     "metadata": {},
     "output_type": "execute_result"
    },
    {
     "data": {
      "image/png": "[encoded data removed]",
      "text/plain": [
       "<Figure size 432x288 with 1 Axes>"
      ]
     },
     "metadata": {
      "needs_background": "light"
     },
     "output_type": "display_data"
    }
   ],
   "source": [
    "sns.lineplot(data=list(lr.coef_))"
   ]
  },
  {
   "cell_type": "markdown",
   "metadata": {},
   "source": [
    "# Let's now remove Neuroendocrine tumors from the dataset"
   ]
  },
  {
   "cell_type": "code",
   "execution_count": 83,
   "metadata": {},
   "outputs": [
    {
     "data": {
      "text/plain": [
       "((100, 18465), (100, 124))"
      ]
     },
     "execution_count": 83,
     "metadata": {},
     "output_type": "execute_result"
    }
   ],
   "source": [
    "delete = componenets[['labels', 'predict', 'histological_type', 'histological_type_other']][componenets.predict == 1].index\n",
    "data2 = data.drop(index=[data.index[i] for i in delete])\n",
    "meta_col2 = meta_col.drop(index=[data.index[i] for i in delete])\n",
    "data2.shape, meta_col2.shape"
   ]
  },
  {
   "cell_type": "markdown",
   "metadata": {},
   "source": [
    "### Load Type 1 IFNs Geneset"
   ]
  },
  {
   "cell_type": "code",
   "execution_count": 84,
   "metadata": {},
   "outputs": [
    {
     "name": "stdout",
     "output_type": "stream",
     "text": [
      "ifns : 25\n",
      "all present : True\n"
     ]
    }
   ],
   "source": [
    "# Load IFNS \n",
    "ifns = []\n",
    "with open('data/type1_IFN.txt', 'r') as f:\n",
    "    ifns = f.read().split('\\n')\n",
    "print('ifns :', len(ifns))\n",
    "check = True\n",
    "for ifn in ifns:\n",
    "    check = check and ifn in data.columns\n",
    "print('all present :', check)\n"
   ]
  },
  {
   "cell_type": "markdown",
   "metadata": {},
   "source": [
    "## Box plot visualization shows the read spread of the 25 genes"
   ]
  },
  {
   "cell_type": "code",
   "execution_count": 89,
   "metadata": {},
   "outputs": [
    {
     "data": {
      "text/plain": [
       "<matplotlib.axes._subplots.AxesSubplot at 0x25ea8839f88>"
      ]
     },
     "execution_count": 89,
     "metadata": {},
     "output_type": "execute_result"
    },
    {
     "data": {
      "image/png": "[encoded data removed]",
      "text/plain": [
       "<Figure size 1224x720 with 1 Axes>"
      ]
     },
     "metadata": {
      "needs_background": "light"
     },
     "output_type": "display_data"
    }
   ],
   "source": [
    "plt.figure(figsize=(17,10))\n",
    "sns.boxplot(data=data2[ifns])\n"
   ]
  },
  {
   "cell_type": "markdown",
   "metadata": {},
   "source": [
    "# GSVA Analysis for the Type 1 IFN Geneset "
   ]
  },
  {
   "cell_type": "markdown",
   "metadata": {},
   "source": [
    "### Python GSVA R-Package driver code; invokes gsva() in R runtime; fetches gsva pathways and scores output back to python runtime"
   ]
  },
  {
   "cell_type": "code",
   "execution_count": 92,
   "metadata": {},
   "outputs": [
    {
     "name": "stdout",
     "output_type": "stream",
     "text": [
      "Rscript command to execute : \n",
      "['Rscript', 'c:\\\\Users\\\\letha\\\\Projects\\\\wip\\\\PAADGeneExpression\\\\gsva.r', 'gsva', 'Gaussian', 'False', '1', 'None', '0', 'SOCK', 'True', 'None', 'True', 'False', 'c:\\\\Users\\\\letha\\\\Projects\\\\wip\\\\PAADGeneExpression\\\\temp']\n",
      "[1] \"c:\\\\Users\\\\letha\\\\Projects\\\\wip\\\\PAADGeneExpression\\\\temp/gsva_scores.csv\"\n",
      "\n",
      "Rscript command to execute : \n",
      "['Rscript', 'c:\\\\Users\\\\letha\\\\Projects\\\\wip\\\\PAADGeneExpression\\\\gsva.r', 'gsva', 'Gaussian', 'False', '1', 'None', '0', 'SOCK', 'False', 'None', 'True', 'False', 'c:\\\\Users\\\\letha\\\\Projects\\\\wip\\\\PAADGeneExpression\\\\temp']\n",
      "[1] \"c:\\\\Users\\\\letha\\\\Projects\\\\wip\\\\PAADGeneExpression\\\\temp/gsva_scores.csv\"\n",
      "\n"
     ]
    }
   ],
   "source": [
    "import argparse, sys, os\n",
    "import pandas as pd \n",
    "# from tempfile import mkdtemp, gettempdir\n",
    "from subprocess import Popen, PIPE\n",
    "import subprocess\n",
    "\n",
    "# R GSVA function call params:\n",
    "method='gsva'\n",
    "kcdf='Gaussian'\n",
    "abs_ranking=False\n",
    "min_sz=1\n",
    "max_sz=None\n",
    "parallel_sz=0\n",
    "parallel_type=\"SOCK\"\n",
    "mx_diff_options=[True, False] # two gsva calculations as on Hänzelmann, S., Castelo, R. & Guinney, J. GSVA\n",
    "tau=None\n",
    "ssgsea_norm=True\n",
    "verbose=False\n",
    "tempdir= None\n",
    "\n",
    "df = data2.T\n",
    "genset = pd.DataFrame(data={'name': ['type1ifn' for i in range(len(ifns))], 'member': ifns})\n",
    "\n",
    "try:\n",
    "    os.mkdir('temp')\n",
    "except FileExistsError:\n",
    "    pass\n",
    "df.to_csv('temp/expr.csv')\n",
    "\n",
    "members = genset['member'].unique()\n",
    "genset = genset.groupby(['name']).apply(lambda x: \"\\t\".join(sorted(list(x['member'])))).reset_index().rename(columns={0:'members'})\n",
    "# Write our gene sets\n",
    "with open('temp/gs.gmt','w') as f:\n",
    "    for row in genset.itertuples():\n",
    "        name = row.name\n",
    "        description = 'description'\n",
    "        fields = row.members\n",
    "        f.write(name+\"\\t\"+description+\"\\t\"+fields+\"\\n\")\n",
    "cur = os.path.dirname(os.path.realpath('__file__'))\n",
    "temp = os.path.join(os.path.dirname(os.path.realpath('__file__')), 'temp')\n",
    "rscript = os.path.join(cur, 'gsva.r')\n",
    "for mx_diff in mx_diff_options:\n",
    "    cmd = [\"Rscript\", rscript]\n",
    "    cmd += [str(x) for x in [method,kcdf,abs_ranking,min_sz,max_sz,parallel_sz,parallel_type,mx_diff,tau,ssgsea_norm,verbose,temp]]\n",
    "    print('Rscript command to execute : ')\n",
    "    print(cmd)\n",
    "    result = subprocess.run(cmd, stdout=subprocess.PIPE, shell=True)\n",
    "    print(result.stdout.decode('utf-8'))\n",
    "    try:\n",
    "        os.remove(f'temp/gsva_scores_mx_diff_{\"t\" if mx_diff else \"f\"}.csv')\n",
    "    except FileNotFoundError:\n",
    "        pass\n",
    "    finally:\n",
    "        os.rename('temp/gsva_scores.csv', f'temp/gsva_scores_mx_diff_{\"t\" if mx_diff else \"f\"}.csv')"
   ]
  },
  {
   "cell_type": "markdown",
   "metadata": {},
   "source": [
    "## GSVA Scores for the presence of IFN Geneset signature in pancreatic adenocarcinoma tumors"
   ]
  },
  {
   "cell_type": "code",
   "execution_count": 94,
   "metadata": {},
   "outputs": [
    {
     "data": {
      "text/html": [
       "<div>\n",
       "<style scoped>\n",
       "    .dataframe tbody tr th:only-of-type {\n",
       "        vertical-align: middle;\n",
       "    }\n",
       "\n",
       "    .dataframe tbody tr th {\n",
       "        vertical-align: top;\n",
       "    }\n",
       "\n",
       "    .dataframe thead th {\n",
       "        text-align: right;\n",
       "    }\n",
       "</style>\n",
       "<table border=\"1\" class=\"dataframe\">\n",
       "  <thead>\n",
       "    <tr style=\"text-align: right;\">\n",
       "      <th></th>\n",
       "      <th>aab4-Primary solid Tumor</th>\n",
       "      <th>aab9-Primary solid Tumor</th>\n",
       "      <th>aabf-Primary solid Tumor</th>\n",
       "      <th>aabk-Primary solid Tumor</th>\n",
       "      <th>aabo-Primary solid Tumor</th>\n",
       "      <th>aabp-Primary solid Tumor</th>\n",
       "      <th>aabr-Primary solid Tumor</th>\n",
       "      <th>aabt-Primary solid Tumor</th>\n",
       "      <th>aabv-Primary solid Tumor</th>\n",
       "      <th>aaqi-Primary solid Tumor</th>\n",
       "      <th>...</th>\n",
       "      <th>a774-Primary solid Tumor</th>\n",
       "      <th>a77j-Primary solid Tumor</th>\n",
       "      <th>aaug-Primary solid Tumor</th>\n",
       "      <th>aauh-Primary solid Tumor</th>\n",
       "      <th>aaui-Primary solid Tumor</th>\n",
       "      <th>a8t3-Primary solid Tumor</th>\n",
       "      <th>a8t5-Primary solid Tumor</th>\n",
       "      <th>a89d-Solid Tissue Normal</th>\n",
       "      <th>a89d-Primary solid Tumor</th>\n",
       "      <th>aapl-Primary solid Tumor</th>\n",
       "    </tr>\n",
       "  </thead>\n",
       "  <tbody>\n",
       "    <tr>\n",
       "      <th>mx_diff_true</th>\n",
       "      <td>0.673430</td>\n",
       "      <td>-0.456758</td>\n",
       "      <td>0.719289</td>\n",
       "      <td>0.164197</td>\n",
       "      <td>0.009867</td>\n",
       "      <td>0.158660</td>\n",
       "      <td>0.249371</td>\n",
       "      <td>-0.386339</td>\n",
       "      <td>-0.078168</td>\n",
       "      <td>0.399373</td>\n",
       "      <td>...</td>\n",
       "      <td>0.523066</td>\n",
       "      <td>-0.340903</td>\n",
       "      <td>-0.616850</td>\n",
       "      <td>-0.705659</td>\n",
       "      <td>-0.503454</td>\n",
       "      <td>-0.163025</td>\n",
       "      <td>-0.006504</td>\n",
       "      <td>0.312271</td>\n",
       "      <td>0.452809</td>\n",
       "      <td>0.550201</td>\n",
       "    </tr>\n",
       "    <tr>\n",
       "      <th>mx_diff_false</th>\n",
       "      <td>0.690222</td>\n",
       "      <td>-0.511554</td>\n",
       "      <td>0.726155</td>\n",
       "      <td>0.264815</td>\n",
       "      <td>0.117683</td>\n",
       "      <td>0.248809</td>\n",
       "      <td>0.278129</td>\n",
       "      <td>-0.523670</td>\n",
       "      <td>-0.222773</td>\n",
       "      <td>0.416369</td>\n",
       "      <td>...</td>\n",
       "      <td>0.576095</td>\n",
       "      <td>-0.373401</td>\n",
       "      <td>-0.625756</td>\n",
       "      <td>-0.719392</td>\n",
       "      <td>-0.514536</td>\n",
       "      <td>-0.252494</td>\n",
       "      <td>-0.152498</td>\n",
       "      <td>0.317846</td>\n",
       "      <td>0.472184</td>\n",
       "      <td>0.607445</td>\n",
       "    </tr>\n",
       "  </tbody>\n",
       "</table>\n",
       "<p>2 rows × 100 columns</p>\n",
       "</div>"
      ],
      "text/plain": [
       "               aab4-Primary solid Tumor  aab9-Primary solid Tumor  \\\n",
       "mx_diff_true                   0.673430                 -0.456758   \n",
       "mx_diff_false                  0.690222                 -0.511554   \n",
       "\n",
       "               aabf-Primary solid Tumor  aabk-Primary solid Tumor  \\\n",
       "mx_diff_true                   0.719289                  0.164197   \n",
       "mx_diff_false                  0.726155                  0.264815   \n",
       "\n",
       "               aabo-Primary solid Tumor  aabp-Primary solid Tumor  \\\n",
       "mx_diff_true                   0.009867                  0.158660   \n",
       "mx_diff_false                  0.117683                  0.248809   \n",
       "\n",
       "               aabr-Primary solid Tumor  aabt-Primary solid Tumor  \\\n",
       "mx_diff_true                   0.249371                 -0.386339   \n",
       "mx_diff_false                  0.278129                 -0.523670   \n",
       "\n",
       "               aabv-Primary solid Tumor  aaqi-Primary solid Tumor  ...  \\\n",
       "mx_diff_true                  -0.078168                  0.399373  ...   \n",
       "mx_diff_false                 -0.222773                  0.416369  ...   \n",
       "\n",
       "               a774-Primary solid Tumor  a77j-Primary solid Tumor  \\\n",
       "mx_diff_true                   0.523066                 -0.340903   \n",
       "mx_diff_false                  0.576095                 -0.373401   \n",
       "\n",
       "               aaug-Primary solid Tumor  aauh-Primary solid Tumor  \\\n",
       "mx_diff_true                  -0.616850                 -0.705659   \n",
       "mx_diff_false                 -0.625756                 -0.719392   \n",
       "\n",
       "               aaui-Primary solid Tumor  a8t3-Primary solid Tumor  \\\n",
       "mx_diff_true                  -0.503454                 -0.163025   \n",
       "mx_diff_false                 -0.514536                 -0.252494   \n",
       "\n",
       "               a8t5-Primary solid Tumor  a89d-Solid Tissue Normal  \\\n",
       "mx_diff_true                  -0.006504                  0.312271   \n",
       "mx_diff_false                 -0.152498                  0.317846   \n",
       "\n",
       "               a89d-Primary solid Tumor  aapl-Primary solid Tumor  \n",
       "mx_diff_true                   0.452809                  0.550201  \n",
       "mx_diff_false                  0.472184                  0.607445  \n",
       "\n",
       "[2 rows x 100 columns]"
      ]
     },
     "execution_count": 94,
     "metadata": {},
     "output_type": "execute_result"
    }
   ],
   "source": [
    "gsva_scores = pd.read_csv('temp/gsva_scores_mx_diff_t.csv').iloc[:,1:]\n",
    "gsva_scores = gsva_scores.append(pd.read_csv('temp/gsva_scores_mx_diff_f.csv').iloc[:,1:])\n",
    "gsva_scores.index = ['mx_diff_true', 'mx_diff_false']\n",
    "gsva_scores"
   ]
  },
  {
   "cell_type": "markdown",
   "metadata": {},
   "source": [
    "#"
   ]
  },
  {
   "cell_type": "markdown",
   "metadata": {},
   "source": [
    "### GSVA Scores obtained using mx_diff=True flag"
   ]
  },
  {
   "cell_type": "markdown",
   "metadata": {},
   "source": [
    "#### Gives a Standard Gaussian distribution of enrichment scores "
   ]
  },
  {
   "cell_type": "code",
   "execution_count": 98,
   "metadata": {},
   "outputs": [
    {
     "data": {
      "text/plain": [
       "<matplotlib.axes._subplots.AxesSubplot at 0x25ea8847e88>"
      ]
     },
     "execution_count": 98,
     "metadata": {},
     "output_type": "execute_result"
    },
    {
     "data": {
      "image/png": "[encoded data removed]",
      "text/plain": [
       "<Figure size 720x360 with 1 Axes>"
      ]
     },
     "metadata": {
      "needs_background": "light"
     },
     "output_type": "display_data"
    }
   ],
   "source": [
    "plt.figure(figsize=(10,5))\n",
    "plt.title('Difference between largest positive and negative deviations')\n",
    "sns.distplot(gsva_scores.loc['mx_diff_true'], axlabel='GSAV Score')"
   ]
  },
  {
   "cell_type": "markdown",
   "metadata": {},
   "source": [
    "### GSVA Scores obtained using mx_diff=False flag"
   ]
  },
  {
   "cell_type": "markdown",
   "metadata": {},
   "source": [
    "#### Calculated analogously to GSEA, gives bimodal distribution of enchrichemnt scores"
   ]
  },
  {
   "cell_type": "code",
   "execution_count": 97,
   "metadata": {},
   "outputs": [
    {
     "data": {
      "text/plain": [
       "<matplotlib.axes._subplots.AxesSubplot at 0x25ea90e0e88>"
      ]
     },
     "execution_count": 97,
     "metadata": {},
     "output_type": "execute_result"
    },
    {
     "data": {
      "image/png": "[encoded data removed]",
      "text/plain": [
       "<Figure size 720x360 with 1 Axes>"
      ]
     },
     "metadata": {
      "needs_background": "light"
     },
     "output_type": "display_data"
    }
   ],
   "source": [
    "plt.figure(figsize=(10,5))\n",
    "plt.title('Maximum deviation from Zero')\n",
    "sns.distplot(gsva_scores.loc['mx_diff_false'], axlabel='GSAV Score')"
   ]
  }
 ],
 "metadata": {
  "file_extension": ".py",
  "kernelspec": {
   "display_name": "Python 3",
   "language": "python",
   "name": "python3"
  },
  "language_info": {
   "codemirror_mode": {
    "name": "ipython",
    "version": 3
   },
   "file_extension": ".py",
   "mimetype": "text/x-python",
   "name": "python",
   "nbconvert_exporter": "python",
   "pygments_lexer": "ipython3",
   "version": "3.7.6"
  },
  "mimetype": "text/x-python",
  "name": "python",
  "npconvert_exporter": "python",
  "pygments_lexer": "ipython3",
  "version": 3
 },
 "nbformat": 4,
 "nbformat_minor": 2
}
